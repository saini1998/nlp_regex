{
 "cells": [
  {
   "cell_type": "code",
   "execution_count": 1,
   "metadata": {},
   "outputs": [],
   "source": [
    "import re"
   ]
  },
  {
   "cell_type": "code",
   "execution_count": 10,
   "metadata": {},
   "outputs": [],
   "source": [
    "chat = [\n",
    "    'codebasic: you ask a lot of questions, 1234567890, abc@xyz.com, 2233445566',\n",
    "    'codebasic: here it is: (123)-456-7890, abc@xyz.com',\n",
    "    'codebasic: yes, email: abc@xyz.com, another email: zz_A, phone: 1234567890'\n",
    "]"
   ]
  },
  {
   "cell_type": "code",
   "execution_count": 15,
   "metadata": {},
   "outputs": [
    {
     "name": "stdout",
     "output_type": "stream",
     "text": [
      "[['1234567890', '2233445566'], ['(123)-456-7890'], ['1234567890']]\n",
      "[['abc@xyz.com'], ['abc@xyz.com'], ['abc@xyz.com', 'zz_A2@bot.cpm']]\n"
     ]
    }
   ],
   "source": [
    "phone_pattern = '\\d{10}|\\(\\d{3}\\)-\\d{3}-\\d{4}'\n",
    "email_pattern = '[a-zA-Z0-9_]*@[a-zA-Z0-9]*\\.[a-z]*'\n",
    "\n",
    "i = 0\n",
    "email_matches = []\n",
    "phone_matches = []\n",
    "while i < 3:\n",
    "    phone_matches.append(re.findall(phone_pattern, chat[i]))\n",
    "    email_matches.append(re.findall(email_pattern,chat[i]))\n",
    "    i = i + 1\n",
    "\n",
    "print(phone_matches)\n",
    "print(email_matches)\n",
    "    "
   ]
  },
  {
   "cell_type": "code",
   "execution_count": 19,
   "metadata": {},
   "outputs": [],
   "source": [
    "text = '''\n",
    "Born\tDaniel Radcliffe\n",
    "23 July 1989 (age 32)\n",
    "London, England\n",
    "Other names\tJacob Gershon[1][2] (pen name)\n",
    "Occupation\tActor\n",
    "Years active\t1999–present\n",
    "Height\t165 cm (5 ft 5 in)\n",
    "Partner(s)\tErin Darke (2012–present)\n",
    "Website\tdanieljradcliffe.com\n",
    "'''"
   ]
  },
  {
   "cell_type": "code",
   "execution_count": 33,
   "metadata": {},
   "outputs": [
    {
     "data": {
      "text/plain": [
       "'Daniel Radcliffe'"
      ]
     },
     "execution_count": 33,
     "metadata": {},
     "output_type": "execute_result"
    }
   ],
   "source": [
    "pattern = 'Born(.*)\\n(.*)\\(age.(\\d+)\\)\\n(.*)'\n",
    "match = re.findall(pattern, text)\n",
    "match[0][0].strip() # removes white spaces"
   ]
  },
  {
   "cell_type": "code",
   "execution_count": 34,
   "metadata": {},
   "outputs": [
    {
     "data": {
      "text/plain": [
       "'23 July 1989 '"
      ]
     },
     "execution_count": 34,
     "metadata": {},
     "output_type": "execute_result"
    }
   ],
   "source": [
    "match[0][1]"
   ]
  },
  {
   "cell_type": "code",
   "execution_count": 35,
   "metadata": {},
   "outputs": [
    {
     "data": {
      "text/plain": [
       "'32'"
      ]
     },
     "execution_count": 35,
     "metadata": {},
     "output_type": "execute_result"
    }
   ],
   "source": [
    "match[0][2]"
   ]
  },
  {
   "cell_type": "code",
   "execution_count": 36,
   "metadata": {},
   "outputs": [
    {
     "data": {
      "text/plain": [
       "'London, England'"
      ]
     },
     "execution_count": 36,
     "metadata": {},
     "output_type": "execute_result"
    }
   ],
   "source": [
    "match[0][3]"
   ]
  },
  {
   "cell_type": "code",
   "execution_count": null,
   "metadata": {},
   "outputs": [],
   "source": []
  }
 ],
 "metadata": {
  "kernelspec": {
   "display_name": "Python 3",
   "language": "python",
   "name": "python3"
  },
  "language_info": {
   "codemirror_mode": {
    "name": "ipython",
    "version": 3
   },
   "file_extension": ".py",
   "mimetype": "text/x-python",
   "name": "python",
   "nbconvert_exporter": "python",
   "pygments_lexer": "ipython3",
   "version": "3.7.6"
  }
 },
 "nbformat": 4,
 "nbformat_minor": 4
}
